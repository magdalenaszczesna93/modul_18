{
 "cells": [
  {
   "cell_type": "code",
   "execution_count": 19,
   "metadata": {},
   "outputs": [],
   "source": [
    "import os\n",
    "from tensorflow import keras\n",
    "import numpy as np\n",
    "import tensorflow as tf\n",
    "import keras.layers as layers\n",
    "from sklearn.model_selection import train_test_split"
   ]
  },
  {
   "cell_type": "code",
   "execution_count": 20,
   "metadata": {},
   "outputs": [
    {
     "name": "stdout",
     "output_type": "stream",
     "text": [
      "2.11.0\n"
     ]
    }
   ],
   "source": [
    "print(tf.version.VERSION)"
   ]
  },
  {
   "cell_type": "code",
   "execution_count": 21,
   "metadata": {},
   "outputs": [],
   "source": [
    "tf.keras.datasets.fashion_mnist.load_data()\n",
    "train, test = tf.keras.datasets.fashion_mnist.load_data()\n",
    "\n",
    "# wydobycie obrazów oraz labelek\n",
    "images, labels = train\n",
    "\n",
    "# normalizacja wartości pikseli (maks. wartość wynosi 255.0, \n",
    "# czyli aby znormalizować nasze dane, musimy podzielić każdy piksel przez maks. wartość)\n",
    "images = images/255.0\n",
    "\n",
    "# zapisujemy dane jako int\n",
    "labels = labels.astype(np.int32)"
   ]
  },
  {
   "cell_type": "code",
   "execution_count": 22,
   "metadata": {},
   "outputs": [],
   "source": [
    "X_train, X_test, y_train, y_test = train_test_split(images, labels, test_size=0.1, random_state=10, stratify=labels)"
   ]
  },
  {
   "cell_type": "code",
   "execution_count": 23,
   "metadata": {},
   "outputs": [],
   "source": [
    "# stworzenie zbioru typu Dataset z naszej listy\n",
    "train_ds = tf.data.Dataset.from_tensor_slices((X_train, y_train))\n",
    "\n",
    "# ustawienie batch_size na 32 oraz przetasowanie na bazie 1000 próbek\n",
    "train_ds = train_ds.shuffle(1000).batch(32)"
   ]
  },
  {
   "cell_type": "code",
   "execution_count": 24,
   "metadata": {},
   "outputs": [],
   "source": [
    "# Define a simple sequential model\n",
    "def create_model():\n",
    "    #stworzenie modelu\n",
    "    f_mnist_model = tf.keras.Sequential([\n",
    "        # spłaszczanie obrazka do wektora jednowymiarowego\n",
    "        layers.Flatten(input_shape=[28, 28]),\n",
    "\n",
    "        layers.Dense(300, activation='relu'),\n",
    "        layers.Dense(200, activation='relu'),\n",
    "        layers.Dense(150, activation='relu'),\n",
    "        layers.Dense(100, activation='relu'),\n",
    "        \n",
    "        # ostatnia warstwa posiada tyle neuronów ile mamy klas\n",
    "        layers.Dense(10, activation='softmax')])\n",
    "    \n",
    "    f_mnist_model.compile(\n",
    "    loss='sparse_categorical_crossentropy',\n",
    "    optimizer='adam',\n",
    "    metrics=['accuracy'])\n",
    "\n",
    "    return f_mnist_model"
   ]
  },
  {
   "cell_type": "code",
   "execution_count": 25,
   "metadata": {},
   "outputs": [
    {
     "name": "stdout",
     "output_type": "stream",
     "text": [
      "Model: \"sequential_3\"\n",
      "_________________________________________________________________\n",
      " Layer (type)                Output Shape              Param #   \n",
      "=================================================================\n",
      " flatten_3 (Flatten)         (None, 784)               0         \n",
      "                                                                 \n",
      " dense_15 (Dense)            (None, 300)               235500    \n",
      "                                                                 \n",
      " dense_16 (Dense)            (None, 200)               60200     \n",
      "                                                                 \n",
      " dense_17 (Dense)            (None, 150)               30150     \n",
      "                                                                 \n",
      " dense_18 (Dense)            (None, 100)               15100     \n",
      "                                                                 \n",
      " dense_19 (Dense)            (None, 10)                1010      \n",
      "                                                                 \n",
      "=================================================================\n",
      "Total params: 341,960\n",
      "Trainable params: 341,960\n",
      "Non-trainable params: 0\n",
      "_________________________________________________________________\n"
     ]
    }
   ],
   "source": [
    "# Create a basic model instance\n",
    "model = create_model()\n",
    "\n",
    "# Display the model's architecture\n",
    "model.summary()"
   ]
  },
  {
   "attachments": {},
   "cell_type": "markdown",
   "metadata": {},
   "source": [
    "### Zapis punktów kontrolnych podczas treningu"
   ]
  },
  {
   "cell_type": "code",
   "execution_count": 26,
   "metadata": {},
   "outputs": [],
   "source": [
    "checkpoint_path = \"training_1/cp.ckpt\"\n",
    "checkpoint_dir = os.path.dirname(checkpoint_path)\n",
    "\n",
    "# Create a callback that saves the model's weights\n",
    "cp_callback = tf.keras.callbacks.ModelCheckpoint(filepath=checkpoint_path,\n",
    "                                                 save_weights_only=True,\n",
    "                                                 verbose=1)"
   ]
  },
  {
   "cell_type": "code",
   "execution_count": 27,
   "metadata": {},
   "outputs": [
    {
     "name": "stdout",
     "output_type": "stream",
     "text": [
      "Epoch 1/10\n",
      "1681/1688 [============================>.] - ETA: 0s - loss: 0.4980 - accuracy: 0.8196\n",
      "Epoch 1: saving model to training_1\\cp.ckpt\n",
      "1688/1688 [==============================] - 11s 6ms/step - loss: 0.4976 - accuracy: 0.8198 - val_loss: 0.4410 - val_accuracy: 0.8442\n",
      "Epoch 2/10\n",
      "1685/1688 [============================>.] - ETA: 0s - loss: 0.3787 - accuracy: 0.8617\n",
      "Epoch 2: saving model to training_1\\cp.ckpt\n",
      "1688/1688 [==============================] - 8s 5ms/step - loss: 0.3789 - accuracy: 0.8617 - val_loss: 0.3708 - val_accuracy: 0.8648\n",
      "Epoch 3/10\n",
      "1684/1688 [============================>.] - ETA: 0s - loss: 0.3425 - accuracy: 0.8730\n",
      "Epoch 3: saving model to training_1\\cp.ckpt\n",
      "1688/1688 [==============================] - 8s 5ms/step - loss: 0.3424 - accuracy: 0.8731 - val_loss: 0.3425 - val_accuracy: 0.8730\n",
      "Epoch 4/10\n",
      "1686/1688 [============================>.] - ETA: 0s - loss: 0.3160 - accuracy: 0.8824\n",
      "Epoch 4: saving model to training_1\\cp.ckpt\n",
      "1688/1688 [==============================] - 8s 5ms/step - loss: 0.3160 - accuracy: 0.8825 - val_loss: 0.3111 - val_accuracy: 0.8878\n",
      "Epoch 5/10\n",
      "1683/1688 [============================>.] - ETA: 0s - loss: 0.2991 - accuracy: 0.8881\n",
      "Epoch 5: saving model to training_1\\cp.ckpt\n",
      "1688/1688 [==============================] - 8s 5ms/step - loss: 0.2989 - accuracy: 0.8882 - val_loss: 0.3184 - val_accuracy: 0.8805\n",
      "Epoch 6/10\n",
      "1686/1688 [============================>.] - ETA: 0s - loss: 0.2803 - accuracy: 0.8953\n",
      "Epoch 6: saving model to training_1\\cp.ckpt\n",
      "1688/1688 [==============================] - 9s 5ms/step - loss: 0.2804 - accuracy: 0.8952 - val_loss: 0.3163 - val_accuracy: 0.8868\n",
      "Epoch 7/10\n",
      "1686/1688 [============================>.] - ETA: 0s - loss: 0.2677 - accuracy: 0.8992\n",
      "Epoch 7: saving model to training_1\\cp.ckpt\n",
      "1688/1688 [==============================] - 8s 5ms/step - loss: 0.2677 - accuracy: 0.8992 - val_loss: 0.3223 - val_accuracy: 0.8793\n",
      "Epoch 8/10\n",
      "1683/1688 [============================>.] - ETA: 0s - loss: 0.2572 - accuracy: 0.9038\n",
      "Epoch 8: saving model to training_1\\cp.ckpt\n",
      "1688/1688 [==============================] - 9s 5ms/step - loss: 0.2572 - accuracy: 0.9037 - val_loss: 0.3190 - val_accuracy: 0.8842\n",
      "Epoch 9/10\n",
      "1684/1688 [============================>.] - ETA: 0s - loss: 0.2462 - accuracy: 0.9071\n",
      "Epoch 9: saving model to training_1\\cp.ckpt\n",
      "1688/1688 [==============================] - 9s 5ms/step - loss: 0.2463 - accuracy: 0.9071 - val_loss: 0.3076 - val_accuracy: 0.8883\n",
      "Epoch 10/10\n",
      "1688/1688 [==============================] - ETA: 0s - loss: 0.2358 - accuracy: 0.9103\n",
      "Epoch 10: saving model to training_1\\cp.ckpt\n",
      "1688/1688 [==============================] - 8s 5ms/step - loss: 0.2358 - accuracy: 0.9103 - val_loss: 0.3258 - val_accuracy: 0.8862\n"
     ]
    }
   ],
   "source": [
    "train_stats = model.fit(train_ds, epochs=10, validation_data=(X_test, y_test), verbose=1, \n",
    "                        callbacks=[cp_callback])"
   ]
  },
  {
   "cell_type": "code",
   "execution_count": 28,
   "metadata": {},
   "outputs": [
    {
     "data": {
      "text/plain": [
       "['checkpoint', 'cp.ckpt.data-00000-of-00001', 'cp.ckpt.index']"
      ]
     },
     "execution_count": 28,
     "metadata": {},
     "output_type": "execute_result"
    }
   ],
   "source": [
    "os.listdir(checkpoint_dir)"
   ]
  },
  {
   "attachments": {},
   "cell_type": "markdown",
   "metadata": {},
   "source": [
    "#### Nowy, niewytrenowany model i ocena go na zestawie testowym. Niewyszkolony model będzie działał na poziomach przypadkowych"
   ]
  },
  {
   "cell_type": "code",
   "execution_count": 29,
   "metadata": {},
   "outputs": [
    {
     "name": "stdout",
     "output_type": "stream",
     "text": [
      "188/188 - 1s - loss: 2.3299 - accuracy: 0.0808 - 585ms/epoch - 3ms/step\n",
      "Untrained model, accuracy:  8.08%\n"
     ]
    }
   ],
   "source": [
    "# Create a basic model instance\n",
    "model = create_model()\n",
    "\n",
    "# Evaluate the model\n",
    "loss, acc = model.evaluate(X_test, y_test, verbose=2)\n",
    "print(\"Untrained model, accuracy: {:5.2f}%\".format(100 * acc))"
   ]
  },
  {
   "attachments": {},
   "cell_type": "markdown",
   "metadata": {},
   "source": [
    "#### Załadowanie ciężarów z punktu kontrolnego i ponowna ocena"
   ]
  },
  {
   "cell_type": "code",
   "execution_count": 30,
   "metadata": {},
   "outputs": [
    {
     "name": "stdout",
     "output_type": "stream",
     "text": [
      "188/188 - 0s - loss: 0.3258 - accuracy: 0.8862 - 385ms/epoch - 2ms/step\n",
      "Restored model, accuracy: 88.62%\n"
     ]
    }
   ],
   "source": [
    "# Loads the weights\n",
    "model.load_weights(checkpoint_path)\n",
    "\n",
    "# Re-evaluate the model\n",
    "loss, acc = model.evaluate(X_test, y_test, verbose=2)\n",
    "print(\"Restored model, accuracy: {:5.2f}%\".format(100 * acc))"
   ]
  },
  {
   "attachments": {},
   "cell_type": "markdown",
   "metadata": {},
   "source": [
    "### Nowy model i zapisywanie unikatowo nazwanych punktów kontrolnych raz na pięć epok"
   ]
  },
  {
   "cell_type": "code",
   "execution_count": 31,
   "metadata": {},
   "outputs": [
    {
     "name": "stdout",
     "output_type": "stream",
     "text": [
      "WARNING:tensorflow:Detecting that an object or model or tf.train.Checkpoint is being deleted with unrestored values. See the following logs for the specific values in question. To silence these warnings, use `status.expect_partial()`. See https://www.tensorflow.org/api_docs/python/tf/train/Checkpoint#restorefor details about the status object returned by the restore function.\n",
      "WARNING:tensorflow:Value in checkpoint could not be found in the restored object: (root).optimizer._variables.1\n",
      "WARNING:tensorflow:Value in checkpoint could not be found in the restored object: (root).optimizer._variables.2\n",
      "WARNING:tensorflow:Value in checkpoint could not be found in the restored object: (root).optimizer._variables.3\n",
      "WARNING:tensorflow:Value in checkpoint could not be found in the restored object: (root).optimizer._variables.4\n",
      "WARNING:tensorflow:Value in checkpoint could not be found in the restored object: (root).optimizer._variables.5\n",
      "WARNING:tensorflow:Value in checkpoint could not be found in the restored object: (root).optimizer._variables.6\n",
      "WARNING:tensorflow:Value in checkpoint could not be found in the restored object: (root).optimizer._variables.7\n",
      "WARNING:tensorflow:Value in checkpoint could not be found in the restored object: (root).optimizer._variables.8\n",
      "WARNING:tensorflow:Value in checkpoint could not be found in the restored object: (root).optimizer._variables.9\n",
      "WARNING:tensorflow:Value in checkpoint could not be found in the restored object: (root).optimizer._variables.10\n",
      "WARNING:tensorflow:Value in checkpoint could not be found in the restored object: (root).optimizer._variables.11\n",
      "WARNING:tensorflow:Value in checkpoint could not be found in the restored object: (root).optimizer._variables.12\n",
      "WARNING:tensorflow:Value in checkpoint could not be found in the restored object: (root).optimizer._variables.13\n",
      "WARNING:tensorflow:Value in checkpoint could not be found in the restored object: (root).optimizer._variables.14\n",
      "WARNING:tensorflow:Value in checkpoint could not be found in the restored object: (root).optimizer._variables.15\n",
      "WARNING:tensorflow:Value in checkpoint could not be found in the restored object: (root).optimizer._variables.16\n",
      "WARNING:tensorflow:Value in checkpoint could not be found in the restored object: (root).optimizer._variables.17\n",
      "WARNING:tensorflow:Value in checkpoint could not be found in the restored object: (root).optimizer._variables.18\n",
      "WARNING:tensorflow:Value in checkpoint could not be found in the restored object: (root).optimizer._variables.19\n",
      "WARNING:tensorflow:Value in checkpoint could not be found in the restored object: (root).optimizer._variables.20\n",
      "\n",
      "Epoch 1: saving model to training_2\\cp-0001.ckpt\n",
      "\n",
      "Epoch 1: saving model to training_2\\cp-0001.ckpt\n",
      "\n",
      "Epoch 1: saving model to training_2\\cp-0001.ckpt\n",
      "\n",
      "Epoch 1: saving model to training_2\\cp-0001.ckpt\n",
      "\n",
      "Epoch 1: saving model to training_2\\cp-0001.ckpt\n",
      "\n",
      "Epoch 1: saving model to training_2\\cp-0001.ckpt\n",
      "\n",
      "Epoch 1: saving model to training_2\\cp-0001.ckpt\n",
      "\n",
      "Epoch 1: saving model to training_2\\cp-0001.ckpt\n",
      "\n",
      "Epoch 1: saving model to training_2\\cp-0001.ckpt\n",
      "\n",
      "Epoch 1: saving model to training_2\\cp-0001.ckpt\n",
      "\n",
      "Epoch 2: saving model to training_2\\cp-0002.ckpt\n",
      "\n",
      "Epoch 2: saving model to training_2\\cp-0002.ckpt\n",
      "\n",
      "Epoch 2: saving model to training_2\\cp-0002.ckpt\n",
      "\n",
      "Epoch 2: saving model to training_2\\cp-0002.ckpt\n",
      "\n",
      "Epoch 2: saving model to training_2\\cp-0002.ckpt\n",
      "\n",
      "Epoch 2: saving model to training_2\\cp-0002.ckpt\n",
      "\n",
      "Epoch 2: saving model to training_2\\cp-0002.ckpt\n",
      "\n",
      "Epoch 2: saving model to training_2\\cp-0002.ckpt\n",
      "\n",
      "Epoch 2: saving model to training_2\\cp-0002.ckpt\n",
      "\n",
      "Epoch 2: saving model to training_2\\cp-0002.ckpt\n",
      "\n",
      "Epoch 2: saving model to training_2\\cp-0002.ckpt\n",
      "\n",
      "Epoch 3: saving model to training_2\\cp-0003.ckpt\n",
      "\n",
      "Epoch 3: saving model to training_2\\cp-0003.ckpt\n",
      "\n",
      "Epoch 3: saving model to training_2\\cp-0003.ckpt\n",
      "\n",
      "Epoch 3: saving model to training_2\\cp-0003.ckpt\n",
      "\n",
      "Epoch 3: saving model to training_2\\cp-0003.ckpt\n",
      "\n",
      "Epoch 3: saving model to training_2\\cp-0003.ckpt\n",
      "\n",
      "Epoch 3: saving model to training_2\\cp-0003.ckpt\n",
      "\n",
      "Epoch 3: saving model to training_2\\cp-0003.ckpt\n",
      "\n",
      "Epoch 3: saving model to training_2\\cp-0003.ckpt\n",
      "\n",
      "Epoch 3: saving model to training_2\\cp-0003.ckpt\n",
      "\n",
      "Epoch 4: saving model to training_2\\cp-0004.ckpt\n",
      "\n",
      "Epoch 4: saving model to training_2\\cp-0004.ckpt\n",
      "\n",
      "Epoch 4: saving model to training_2\\cp-0004.ckpt\n",
      "\n",
      "Epoch 4: saving model to training_2\\cp-0004.ckpt\n",
      "\n",
      "Epoch 4: saving model to training_2\\cp-0004.ckpt\n",
      "\n",
      "Epoch 4: saving model to training_2\\cp-0004.ckpt\n",
      "\n",
      "Epoch 4: saving model to training_2\\cp-0004.ckpt\n",
      "\n",
      "Epoch 4: saving model to training_2\\cp-0004.ckpt\n",
      "\n",
      "Epoch 4: saving model to training_2\\cp-0004.ckpt\n",
      "\n",
      "Epoch 4: saving model to training_2\\cp-0004.ckpt\n",
      "\n",
      "Epoch 4: saving model to training_2\\cp-0004.ckpt\n",
      "\n",
      "Epoch 5: saving model to training_2\\cp-0005.ckpt\n",
      "\n",
      "Epoch 5: saving model to training_2\\cp-0005.ckpt\n",
      "\n",
      "Epoch 5: saving model to training_2\\cp-0005.ckpt\n",
      "\n",
      "Epoch 5: saving model to training_2\\cp-0005.ckpt\n",
      "\n",
      "Epoch 5: saving model to training_2\\cp-0005.ckpt\n",
      "\n",
      "Epoch 5: saving model to training_2\\cp-0005.ckpt\n",
      "\n",
      "Epoch 5: saving model to training_2\\cp-0005.ckpt\n",
      "\n",
      "Epoch 5: saving model to training_2\\cp-0005.ckpt\n",
      "\n",
      "Epoch 5: saving model to training_2\\cp-0005.ckpt\n",
      "\n",
      "Epoch 5: saving model to training_2\\cp-0005.ckpt\n",
      "\n",
      "Epoch 6: saving model to training_2\\cp-0006.ckpt\n",
      "\n",
      "Epoch 6: saving model to training_2\\cp-0006.ckpt\n",
      "\n",
      "Epoch 6: saving model to training_2\\cp-0006.ckpt\n",
      "\n",
      "Epoch 6: saving model to training_2\\cp-0006.ckpt\n",
      "\n",
      "Epoch 6: saving model to training_2\\cp-0006.ckpt\n",
      "\n",
      "Epoch 6: saving model to training_2\\cp-0006.ckpt\n",
      "\n",
      "Epoch 6: saving model to training_2\\cp-0006.ckpt\n",
      "\n",
      "Epoch 6: saving model to training_2\\cp-0006.ckpt\n",
      "\n",
      "Epoch 6: saving model to training_2\\cp-0006.ckpt\n",
      "\n",
      "Epoch 6: saving model to training_2\\cp-0006.ckpt\n",
      "\n",
      "Epoch 6: saving model to training_2\\cp-0006.ckpt\n",
      "\n",
      "Epoch 7: saving model to training_2\\cp-0007.ckpt\n",
      "\n",
      "Epoch 7: saving model to training_2\\cp-0007.ckpt\n",
      "\n",
      "Epoch 7: saving model to training_2\\cp-0007.ckpt\n",
      "\n",
      "Epoch 7: saving model to training_2\\cp-0007.ckpt\n",
      "\n",
      "Epoch 7: saving model to training_2\\cp-0007.ckpt\n",
      "\n",
      "Epoch 7: saving model to training_2\\cp-0007.ckpt\n",
      "\n",
      "Epoch 7: saving model to training_2\\cp-0007.ckpt\n",
      "\n",
      "Epoch 7: saving model to training_2\\cp-0007.ckpt\n",
      "\n",
      "Epoch 7: saving model to training_2\\cp-0007.ckpt\n",
      "\n",
      "Epoch 7: saving model to training_2\\cp-0007.ckpt\n",
      "\n",
      "Epoch 8: saving model to training_2\\cp-0008.ckpt\n",
      "\n",
      "Epoch 8: saving model to training_2\\cp-0008.ckpt\n",
      "\n",
      "Epoch 8: saving model to training_2\\cp-0008.ckpt\n",
      "\n",
      "Epoch 8: saving model to training_2\\cp-0008.ckpt\n",
      "\n",
      "Epoch 8: saving model to training_2\\cp-0008.ckpt\n",
      "\n",
      "Epoch 8: saving model to training_2\\cp-0008.ckpt\n",
      "\n",
      "Epoch 8: saving model to training_2\\cp-0008.ckpt\n",
      "\n",
      "Epoch 8: saving model to training_2\\cp-0008.ckpt\n",
      "\n",
      "Epoch 8: saving model to training_2\\cp-0008.ckpt\n",
      "\n",
      "Epoch 8: saving model to training_2\\cp-0008.ckpt\n",
      "\n",
      "Epoch 8: saving model to training_2\\cp-0008.ckpt\n",
      "\n",
      "Epoch 9: saving model to training_2\\cp-0009.ckpt\n",
      "\n",
      "Epoch 9: saving model to training_2\\cp-0009.ckpt\n",
      "\n",
      "Epoch 9: saving model to training_2\\cp-0009.ckpt\n",
      "\n",
      "Epoch 9: saving model to training_2\\cp-0009.ckpt\n",
      "\n",
      "Epoch 9: saving model to training_2\\cp-0009.ckpt\n",
      "\n",
      "Epoch 9: saving model to training_2\\cp-0009.ckpt\n",
      "\n",
      "Epoch 9: saving model to training_2\\cp-0009.ckpt\n",
      "\n",
      "Epoch 9: saving model to training_2\\cp-0009.ckpt\n",
      "\n",
      "Epoch 9: saving model to training_2\\cp-0009.ckpt\n",
      "\n",
      "Epoch 9: saving model to training_2\\cp-0009.ckpt\n",
      "\n",
      "Epoch 10: saving model to training_2\\cp-0010.ckpt\n",
      "\n",
      "Epoch 10: saving model to training_2\\cp-0010.ckpt\n",
      "\n",
      "Epoch 10: saving model to training_2\\cp-0010.ckpt\n",
      "\n",
      "Epoch 10: saving model to training_2\\cp-0010.ckpt\n",
      "\n",
      "Epoch 10: saving model to training_2\\cp-0010.ckpt\n",
      "\n",
      "Epoch 10: saving model to training_2\\cp-0010.ckpt\n",
      "\n",
      "Epoch 10: saving model to training_2\\cp-0010.ckpt\n",
      "\n",
      "Epoch 10: saving model to training_2\\cp-0010.ckpt\n",
      "\n",
      "Epoch 10: saving model to training_2\\cp-0010.ckpt\n",
      "\n",
      "Epoch 10: saving model to training_2\\cp-0010.ckpt\n",
      "\n",
      "Epoch 10: saving model to training_2\\cp-0010.ckpt\n",
      "\n",
      "Epoch 11: saving model to training_2\\cp-0011.ckpt\n",
      "\n",
      "Epoch 11: saving model to training_2\\cp-0011.ckpt\n",
      "\n",
      "Epoch 11: saving model to training_2\\cp-0011.ckpt\n",
      "\n",
      "Epoch 11: saving model to training_2\\cp-0011.ckpt\n",
      "\n",
      "Epoch 11: saving model to training_2\\cp-0011.ckpt\n",
      "\n",
      "Epoch 11: saving model to training_2\\cp-0011.ckpt\n",
      "\n",
      "Epoch 11: saving model to training_2\\cp-0011.ckpt\n",
      "\n",
      "Epoch 11: saving model to training_2\\cp-0011.ckpt\n",
      "\n",
      "Epoch 11: saving model to training_2\\cp-0011.ckpt\n",
      "\n",
      "Epoch 11: saving model to training_2\\cp-0011.ckpt\n",
      "\n",
      "Epoch 11: saving model to training_2\\cp-0011.ckpt\n",
      "\n",
      "Epoch 12: saving model to training_2\\cp-0012.ckpt\n",
      "\n",
      "Epoch 12: saving model to training_2\\cp-0012.ckpt\n",
      "\n",
      "Epoch 12: saving model to training_2\\cp-0012.ckpt\n",
      "\n",
      "Epoch 12: saving model to training_2\\cp-0012.ckpt\n",
      "\n",
      "Epoch 12: saving model to training_2\\cp-0012.ckpt\n",
      "\n",
      "Epoch 12: saving model to training_2\\cp-0012.ckpt\n",
      "\n",
      "Epoch 12: saving model to training_2\\cp-0012.ckpt\n",
      "\n",
      "Epoch 12: saving model to training_2\\cp-0012.ckpt\n",
      "\n",
      "Epoch 12: saving model to training_2\\cp-0012.ckpt\n",
      "\n",
      "Epoch 12: saving model to training_2\\cp-0012.ckpt\n",
      "\n",
      "Epoch 13: saving model to training_2\\cp-0013.ckpt\n",
      "\n",
      "Epoch 13: saving model to training_2\\cp-0013.ckpt\n",
      "\n",
      "Epoch 13: saving model to training_2\\cp-0013.ckpt\n",
      "\n",
      "Epoch 13: saving model to training_2\\cp-0013.ckpt\n",
      "\n",
      "Epoch 13: saving model to training_2\\cp-0013.ckpt\n",
      "\n",
      "Epoch 13: saving model to training_2\\cp-0013.ckpt\n",
      "\n",
      "Epoch 13: saving model to training_2\\cp-0013.ckpt\n",
      "\n",
      "Epoch 13: saving model to training_2\\cp-0013.ckpt\n",
      "\n",
      "Epoch 13: saving model to training_2\\cp-0013.ckpt\n",
      "\n",
      "Epoch 13: saving model to training_2\\cp-0013.ckpt\n",
      "\n",
      "Epoch 13: saving model to training_2\\cp-0013.ckpt\n",
      "\n",
      "Epoch 14: saving model to training_2\\cp-0014.ckpt\n",
      "\n",
      "Epoch 14: saving model to training_2\\cp-0014.ckpt\n",
      "\n",
      "Epoch 14: saving model to training_2\\cp-0014.ckpt\n",
      "\n",
      "Epoch 14: saving model to training_2\\cp-0014.ckpt\n",
      "\n",
      "Epoch 14: saving model to training_2\\cp-0014.ckpt\n",
      "\n",
      "Epoch 14: saving model to training_2\\cp-0014.ckpt\n",
      "\n",
      "Epoch 14: saving model to training_2\\cp-0014.ckpt\n",
      "\n",
      "Epoch 14: saving model to training_2\\cp-0014.ckpt\n",
      "\n",
      "Epoch 14: saving model to training_2\\cp-0014.ckpt\n",
      "\n",
      "Epoch 14: saving model to training_2\\cp-0014.ckpt\n",
      "\n",
      "Epoch 15: saving model to training_2\\cp-0015.ckpt\n",
      "\n",
      "Epoch 15: saving model to training_2\\cp-0015.ckpt\n",
      "\n",
      "Epoch 15: saving model to training_2\\cp-0015.ckpt\n",
      "\n",
      "Epoch 15: saving model to training_2\\cp-0015.ckpt\n",
      "\n",
      "Epoch 15: saving model to training_2\\cp-0015.ckpt\n",
      "\n",
      "Epoch 15: saving model to training_2\\cp-0015.ckpt\n",
      "\n",
      "Epoch 15: saving model to training_2\\cp-0015.ckpt\n",
      "\n",
      "Epoch 15: saving model to training_2\\cp-0015.ckpt\n",
      "\n",
      "Epoch 15: saving model to training_2\\cp-0015.ckpt\n",
      "\n",
      "Epoch 15: saving model to training_2\\cp-0015.ckpt\n",
      "\n",
      "Epoch 15: saving model to training_2\\cp-0015.ckpt\n",
      "\n",
      "Epoch 16: saving model to training_2\\cp-0016.ckpt\n",
      "\n",
      "Epoch 16: saving model to training_2\\cp-0016.ckpt\n",
      "\n",
      "Epoch 16: saving model to training_2\\cp-0016.ckpt\n",
      "\n",
      "Epoch 16: saving model to training_2\\cp-0016.ckpt\n",
      "\n",
      "Epoch 16: saving model to training_2\\cp-0016.ckpt\n",
      "\n",
      "Epoch 16: saving model to training_2\\cp-0016.ckpt\n",
      "\n",
      "Epoch 16: saving model to training_2\\cp-0016.ckpt\n",
      "\n",
      "Epoch 16: saving model to training_2\\cp-0016.ckpt\n",
      "\n",
      "Epoch 16: saving model to training_2\\cp-0016.ckpt\n",
      "\n",
      "Epoch 16: saving model to training_2\\cp-0016.ckpt\n",
      "\n",
      "Epoch 17: saving model to training_2\\cp-0017.ckpt\n",
      "\n",
      "Epoch 17: saving model to training_2\\cp-0017.ckpt\n",
      "\n",
      "Epoch 17: saving model to training_2\\cp-0017.ckpt\n",
      "\n",
      "Epoch 17: saving model to training_2\\cp-0017.ckpt\n",
      "\n",
      "Epoch 17: saving model to training_2\\cp-0017.ckpt\n",
      "\n",
      "Epoch 17: saving model to training_2\\cp-0017.ckpt\n",
      "\n",
      "Epoch 17: saving model to training_2\\cp-0017.ckpt\n",
      "\n",
      "Epoch 17: saving model to training_2\\cp-0017.ckpt\n",
      "\n",
      "Epoch 17: saving model to training_2\\cp-0017.ckpt\n",
      "\n",
      "Epoch 17: saving model to training_2\\cp-0017.ckpt\n",
      "\n",
      "Epoch 17: saving model to training_2\\cp-0017.ckpt\n",
      "\n",
      "Epoch 18: saving model to training_2\\cp-0018.ckpt\n",
      "\n",
      "Epoch 18: saving model to training_2\\cp-0018.ckpt\n",
      "\n",
      "Epoch 18: saving model to training_2\\cp-0018.ckpt\n",
      "\n",
      "Epoch 18: saving model to training_2\\cp-0018.ckpt\n",
      "\n",
      "Epoch 18: saving model to training_2\\cp-0018.ckpt\n",
      "\n",
      "Epoch 18: saving model to training_2\\cp-0018.ckpt\n",
      "\n",
      "Epoch 18: saving model to training_2\\cp-0018.ckpt\n",
      "\n",
      "Epoch 18: saving model to training_2\\cp-0018.ckpt\n",
      "\n",
      "Epoch 18: saving model to training_2\\cp-0018.ckpt\n",
      "\n",
      "Epoch 18: saving model to training_2\\cp-0018.ckpt\n",
      "\n",
      "Epoch 19: saving model to training_2\\cp-0019.ckpt\n",
      "\n",
      "Epoch 19: saving model to training_2\\cp-0019.ckpt\n",
      "\n",
      "Epoch 19: saving model to training_2\\cp-0019.ckpt\n",
      "\n",
      "Epoch 19: saving model to training_2\\cp-0019.ckpt\n",
      "\n",
      "Epoch 19: saving model to training_2\\cp-0019.ckpt\n",
      "\n",
      "Epoch 19: saving model to training_2\\cp-0019.ckpt\n",
      "\n",
      "Epoch 19: saving model to training_2\\cp-0019.ckpt\n",
      "\n",
      "Epoch 19: saving model to training_2\\cp-0019.ckpt\n",
      "\n",
      "Epoch 19: saving model to training_2\\cp-0019.ckpt\n",
      "\n",
      "Epoch 19: saving model to training_2\\cp-0019.ckpt\n",
      "\n",
      "Epoch 19: saving model to training_2\\cp-0019.ckpt\n",
      "\n",
      "Epoch 20: saving model to training_2\\cp-0020.ckpt\n",
      "\n",
      "Epoch 20: saving model to training_2\\cp-0020.ckpt\n",
      "\n",
      "Epoch 20: saving model to training_2\\cp-0020.ckpt\n",
      "\n",
      "Epoch 20: saving model to training_2\\cp-0020.ckpt\n",
      "\n",
      "Epoch 20: saving model to training_2\\cp-0020.ckpt\n",
      "\n",
      "Epoch 20: saving model to training_2\\cp-0020.ckpt\n",
      "\n",
      "Epoch 20: saving model to training_2\\cp-0020.ckpt\n",
      "\n",
      "Epoch 20: saving model to training_2\\cp-0020.ckpt\n",
      "\n",
      "Epoch 20: saving model to training_2\\cp-0020.ckpt\n",
      "\n",
      "Epoch 20: saving model to training_2\\cp-0020.ckpt\n",
      "\n",
      "Epoch 20: saving model to training_2\\cp-0020.ckpt\n",
      "\n",
      "Epoch 21: saving model to training_2\\cp-0021.ckpt\n",
      "\n",
      "Epoch 21: saving model to training_2\\cp-0021.ckpt\n",
      "\n",
      "Epoch 21: saving model to training_2\\cp-0021.ckpt\n",
      "\n",
      "Epoch 21: saving model to training_2\\cp-0021.ckpt\n",
      "\n",
      "Epoch 21: saving model to training_2\\cp-0021.ckpt\n",
      "\n",
      "Epoch 21: saving model to training_2\\cp-0021.ckpt\n",
      "\n",
      "Epoch 21: saving model to training_2\\cp-0021.ckpt\n",
      "\n",
      "Epoch 21: saving model to training_2\\cp-0021.ckpt\n",
      "\n",
      "Epoch 21: saving model to training_2\\cp-0021.ckpt\n",
      "\n",
      "Epoch 21: saving model to training_2\\cp-0021.ckpt\n",
      "\n",
      "Epoch 22: saving model to training_2\\cp-0022.ckpt\n",
      "\n",
      "Epoch 22: saving model to training_2\\cp-0022.ckpt\n",
      "\n",
      "Epoch 22: saving model to training_2\\cp-0022.ckpt\n",
      "\n",
      "Epoch 22: saving model to training_2\\cp-0022.ckpt\n",
      "\n",
      "Epoch 22: saving model to training_2\\cp-0022.ckpt\n",
      "\n",
      "Epoch 22: saving model to training_2\\cp-0022.ckpt\n",
      "\n",
      "Epoch 22: saving model to training_2\\cp-0022.ckpt\n",
      "\n",
      "Epoch 22: saving model to training_2\\cp-0022.ckpt\n",
      "\n",
      "Epoch 22: saving model to training_2\\cp-0022.ckpt\n",
      "\n",
      "Epoch 22: saving model to training_2\\cp-0022.ckpt\n",
      "\n",
      "Epoch 22: saving model to training_2\\cp-0022.ckpt\n",
      "\n",
      "Epoch 23: saving model to training_2\\cp-0023.ckpt\n",
      "\n",
      "Epoch 23: saving model to training_2\\cp-0023.ckpt\n",
      "\n",
      "Epoch 23: saving model to training_2\\cp-0023.ckpt\n",
      "\n",
      "Epoch 23: saving model to training_2\\cp-0023.ckpt\n",
      "\n",
      "Epoch 23: saving model to training_2\\cp-0023.ckpt\n",
      "\n",
      "Epoch 23: saving model to training_2\\cp-0023.ckpt\n",
      "\n",
      "Epoch 23: saving model to training_2\\cp-0023.ckpt\n",
      "\n",
      "Epoch 23: saving model to training_2\\cp-0023.ckpt\n",
      "\n",
      "Epoch 23: saving model to training_2\\cp-0023.ckpt\n",
      "\n",
      "Epoch 23: saving model to training_2\\cp-0023.ckpt\n",
      "\n",
      "Epoch 24: saving model to training_2\\cp-0024.ckpt\n",
      "\n",
      "Epoch 24: saving model to training_2\\cp-0024.ckpt\n",
      "\n",
      "Epoch 24: saving model to training_2\\cp-0024.ckpt\n",
      "\n",
      "Epoch 24: saving model to training_2\\cp-0024.ckpt\n",
      "\n",
      "Epoch 24: saving model to training_2\\cp-0024.ckpt\n",
      "\n",
      "Epoch 24: saving model to training_2\\cp-0024.ckpt\n",
      "\n",
      "Epoch 24: saving model to training_2\\cp-0024.ckpt\n",
      "\n",
      "Epoch 24: saving model to training_2\\cp-0024.ckpt\n",
      "\n",
      "Epoch 24: saving model to training_2\\cp-0024.ckpt\n",
      "\n",
      "Epoch 24: saving model to training_2\\cp-0024.ckpt\n",
      "\n",
      "Epoch 24: saving model to training_2\\cp-0024.ckpt\n",
      "\n",
      "Epoch 25: saving model to training_2\\cp-0025.ckpt\n",
      "\n",
      "Epoch 25: saving model to training_2\\cp-0025.ckpt\n",
      "\n",
      "Epoch 25: saving model to training_2\\cp-0025.ckpt\n",
      "\n",
      "Epoch 25: saving model to training_2\\cp-0025.ckpt\n",
      "\n",
      "Epoch 25: saving model to training_2\\cp-0025.ckpt\n",
      "\n",
      "Epoch 25: saving model to training_2\\cp-0025.ckpt\n",
      "\n",
      "Epoch 25: saving model to training_2\\cp-0025.ckpt\n",
      "\n",
      "Epoch 25: saving model to training_2\\cp-0025.ckpt\n",
      "\n",
      "Epoch 25: saving model to training_2\\cp-0025.ckpt\n",
      "\n",
      "Epoch 25: saving model to training_2\\cp-0025.ckpt\n",
      "\n",
      "Epoch 26: saving model to training_2\\cp-0026.ckpt\n",
      "\n",
      "Epoch 26: saving model to training_2\\cp-0026.ckpt\n",
      "\n",
      "Epoch 26: saving model to training_2\\cp-0026.ckpt\n",
      "\n",
      "Epoch 26: saving model to training_2\\cp-0026.ckpt\n",
      "\n",
      "Epoch 26: saving model to training_2\\cp-0026.ckpt\n",
      "\n",
      "Epoch 26: saving model to training_2\\cp-0026.ckpt\n",
      "\n",
      "Epoch 26: saving model to training_2\\cp-0026.ckpt\n",
      "\n",
      "Epoch 26: saving model to training_2\\cp-0026.ckpt\n",
      "\n",
      "Epoch 26: saving model to training_2\\cp-0026.ckpt\n",
      "\n",
      "Epoch 26: saving model to training_2\\cp-0026.ckpt\n",
      "\n",
      "Epoch 26: saving model to training_2\\cp-0026.ckpt\n",
      "\n",
      "Epoch 27: saving model to training_2\\cp-0027.ckpt\n",
      "\n",
      "Epoch 27: saving model to training_2\\cp-0027.ckpt\n",
      "\n",
      "Epoch 27: saving model to training_2\\cp-0027.ckpt\n",
      "\n",
      "Epoch 27: saving model to training_2\\cp-0027.ckpt\n",
      "\n",
      "Epoch 27: saving model to training_2\\cp-0027.ckpt\n",
      "\n",
      "Epoch 27: saving model to training_2\\cp-0027.ckpt\n",
      "\n",
      "Epoch 27: saving model to training_2\\cp-0027.ckpt\n",
      "\n",
      "Epoch 27: saving model to training_2\\cp-0027.ckpt\n",
      "\n",
      "Epoch 27: saving model to training_2\\cp-0027.ckpt\n",
      "\n",
      "Epoch 27: saving model to training_2\\cp-0027.ckpt\n",
      "\n",
      "Epoch 28: saving model to training_2\\cp-0028.ckpt\n",
      "\n",
      "Epoch 28: saving model to training_2\\cp-0028.ckpt\n",
      "\n",
      "Epoch 28: saving model to training_2\\cp-0028.ckpt\n",
      "\n",
      "Epoch 28: saving model to training_2\\cp-0028.ckpt\n",
      "\n",
      "Epoch 28: saving model to training_2\\cp-0028.ckpt\n",
      "\n",
      "Epoch 28: saving model to training_2\\cp-0028.ckpt\n",
      "\n",
      "Epoch 28: saving model to training_2\\cp-0028.ckpt\n",
      "\n",
      "Epoch 28: saving model to training_2\\cp-0028.ckpt\n",
      "\n",
      "Epoch 28: saving model to training_2\\cp-0028.ckpt\n",
      "\n",
      "Epoch 28: saving model to training_2\\cp-0028.ckpt\n",
      "\n",
      "Epoch 28: saving model to training_2\\cp-0028.ckpt\n",
      "\n",
      "Epoch 29: saving model to training_2\\cp-0029.ckpt\n",
      "\n",
      "Epoch 29: saving model to training_2\\cp-0029.ckpt\n",
      "\n",
      "Epoch 29: saving model to training_2\\cp-0029.ckpt\n",
      "\n",
      "Epoch 29: saving model to training_2\\cp-0029.ckpt\n",
      "\n",
      "Epoch 29: saving model to training_2\\cp-0029.ckpt\n",
      "\n",
      "Epoch 29: saving model to training_2\\cp-0029.ckpt\n",
      "\n",
      "Epoch 29: saving model to training_2\\cp-0029.ckpt\n",
      "\n",
      "Epoch 29: saving model to training_2\\cp-0029.ckpt\n",
      "\n",
      "Epoch 29: saving model to training_2\\cp-0029.ckpt\n",
      "\n",
      "Epoch 29: saving model to training_2\\cp-0029.ckpt\n",
      "\n",
      "Epoch 30: saving model to training_2\\cp-0030.ckpt\n",
      "\n",
      "Epoch 30: saving model to training_2\\cp-0030.ckpt\n",
      "\n",
      "Epoch 30: saving model to training_2\\cp-0030.ckpt\n",
      "\n",
      "Epoch 30: saving model to training_2\\cp-0030.ckpt\n",
      "\n",
      "Epoch 30: saving model to training_2\\cp-0030.ckpt\n",
      "\n",
      "Epoch 30: saving model to training_2\\cp-0030.ckpt\n",
      "\n",
      "Epoch 30: saving model to training_2\\cp-0030.ckpt\n",
      "\n",
      "Epoch 30: saving model to training_2\\cp-0030.ckpt\n",
      "\n",
      "Epoch 30: saving model to training_2\\cp-0030.ckpt\n",
      "\n",
      "Epoch 30: saving model to training_2\\cp-0030.ckpt\n",
      "\n",
      "Epoch 30: saving model to training_2\\cp-0030.ckpt\n",
      "\n",
      "Epoch 31: saving model to training_2\\cp-0031.ckpt\n",
      "\n",
      "Epoch 31: saving model to training_2\\cp-0031.ckpt\n",
      "\n",
      "Epoch 31: saving model to training_2\\cp-0031.ckpt\n",
      "\n",
      "Epoch 31: saving model to training_2\\cp-0031.ckpt\n",
      "\n",
      "Epoch 31: saving model to training_2\\cp-0031.ckpt\n",
      "\n",
      "Epoch 31: saving model to training_2\\cp-0031.ckpt\n",
      "\n",
      "Epoch 31: saving model to training_2\\cp-0031.ckpt\n",
      "\n",
      "Epoch 31: saving model to training_2\\cp-0031.ckpt\n",
      "\n",
      "Epoch 31: saving model to training_2\\cp-0031.ckpt\n",
      "\n",
      "Epoch 31: saving model to training_2\\cp-0031.ckpt\n",
      "\n",
      "Epoch 31: saving model to training_2\\cp-0031.ckpt\n",
      "\n",
      "Epoch 32: saving model to training_2\\cp-0032.ckpt\n",
      "\n",
      "Epoch 32: saving model to training_2\\cp-0032.ckpt\n",
      "\n",
      "Epoch 32: saving model to training_2\\cp-0032.ckpt\n",
      "\n",
      "Epoch 32: saving model to training_2\\cp-0032.ckpt\n",
      "\n",
      "Epoch 32: saving model to training_2\\cp-0032.ckpt\n",
      "\n",
      "Epoch 32: saving model to training_2\\cp-0032.ckpt\n",
      "\n",
      "Epoch 32: saving model to training_2\\cp-0032.ckpt\n",
      "\n",
      "Epoch 32: saving model to training_2\\cp-0032.ckpt\n",
      "\n",
      "Epoch 32: saving model to training_2\\cp-0032.ckpt\n",
      "\n",
      "Epoch 32: saving model to training_2\\cp-0032.ckpt\n",
      "\n",
      "Epoch 33: saving model to training_2\\cp-0033.ckpt\n",
      "\n",
      "Epoch 33: saving model to training_2\\cp-0033.ckpt\n",
      "\n",
      "Epoch 33: saving model to training_2\\cp-0033.ckpt\n",
      "\n",
      "Epoch 33: saving model to training_2\\cp-0033.ckpt\n",
      "\n",
      "Epoch 33: saving model to training_2\\cp-0033.ckpt\n",
      "\n",
      "Epoch 33: saving model to training_2\\cp-0033.ckpt\n",
      "\n",
      "Epoch 33: saving model to training_2\\cp-0033.ckpt\n",
      "\n",
      "Epoch 33: saving model to training_2\\cp-0033.ckpt\n",
      "\n",
      "Epoch 33: saving model to training_2\\cp-0033.ckpt\n",
      "\n",
      "Epoch 33: saving model to training_2\\cp-0033.ckpt\n",
      "\n",
      "Epoch 33: saving model to training_2\\cp-0033.ckpt\n",
      "\n",
      "Epoch 34: saving model to training_2\\cp-0034.ckpt\n",
      "\n",
      "Epoch 34: saving model to training_2\\cp-0034.ckpt\n",
      "\n",
      "Epoch 34: saving model to training_2\\cp-0034.ckpt\n",
      "\n",
      "Epoch 34: saving model to training_2\\cp-0034.ckpt\n",
      "\n",
      "Epoch 34: saving model to training_2\\cp-0034.ckpt\n",
      "\n",
      "Epoch 34: saving model to training_2\\cp-0034.ckpt\n",
      "\n",
      "Epoch 34: saving model to training_2\\cp-0034.ckpt\n",
      "\n",
      "Epoch 34: saving model to training_2\\cp-0034.ckpt\n",
      "\n",
      "Epoch 34: saving model to training_2\\cp-0034.ckpt\n",
      "\n",
      "Epoch 34: saving model to training_2\\cp-0034.ckpt\n",
      "\n",
      "Epoch 35: saving model to training_2\\cp-0035.ckpt\n",
      "\n",
      "Epoch 35: saving model to training_2\\cp-0035.ckpt\n",
      "\n",
      "Epoch 35: saving model to training_2\\cp-0035.ckpt\n",
      "\n",
      "Epoch 35: saving model to training_2\\cp-0035.ckpt\n",
      "\n",
      "Epoch 35: saving model to training_2\\cp-0035.ckpt\n",
      "\n",
      "Epoch 35: saving model to training_2\\cp-0035.ckpt\n",
      "\n",
      "Epoch 35: saving model to training_2\\cp-0035.ckpt\n",
      "\n",
      "Epoch 35: saving model to training_2\\cp-0035.ckpt\n",
      "\n",
      "Epoch 35: saving model to training_2\\cp-0035.ckpt\n",
      "\n",
      "Epoch 35: saving model to training_2\\cp-0035.ckpt\n",
      "\n",
      "Epoch 35: saving model to training_2\\cp-0035.ckpt\n",
      "\n",
      "Epoch 36: saving model to training_2\\cp-0036.ckpt\n",
      "\n",
      "Epoch 36: saving model to training_2\\cp-0036.ckpt\n",
      "\n",
      "Epoch 36: saving model to training_2\\cp-0036.ckpt\n",
      "\n",
      "Epoch 36: saving model to training_2\\cp-0036.ckpt\n",
      "\n",
      "Epoch 36: saving model to training_2\\cp-0036.ckpt\n",
      "\n",
      "Epoch 36: saving model to training_2\\cp-0036.ckpt\n",
      "\n",
      "Epoch 36: saving model to training_2\\cp-0036.ckpt\n",
      "\n",
      "Epoch 36: saving model to training_2\\cp-0036.ckpt\n",
      "\n",
      "Epoch 36: saving model to training_2\\cp-0036.ckpt\n",
      "\n",
      "Epoch 36: saving model to training_2\\cp-0036.ckpt\n",
      "\n",
      "Epoch 37: saving model to training_2\\cp-0037.ckpt\n",
      "\n",
      "Epoch 37: saving model to training_2\\cp-0037.ckpt\n",
      "\n",
      "Epoch 37: saving model to training_2\\cp-0037.ckpt\n",
      "\n",
      "Epoch 37: saving model to training_2\\cp-0037.ckpt\n",
      "\n",
      "Epoch 37: saving model to training_2\\cp-0037.ckpt\n",
      "\n",
      "Epoch 37: saving model to training_2\\cp-0037.ckpt\n",
      "\n",
      "Epoch 37: saving model to training_2\\cp-0037.ckpt\n",
      "\n",
      "Epoch 37: saving model to training_2\\cp-0037.ckpt\n",
      "\n",
      "Epoch 37: saving model to training_2\\cp-0037.ckpt\n",
      "\n",
      "Epoch 37: saving model to training_2\\cp-0037.ckpt\n",
      "\n",
      "Epoch 37: saving model to training_2\\cp-0037.ckpt\n",
      "\n",
      "Epoch 38: saving model to training_2\\cp-0038.ckpt\n",
      "\n",
      "Epoch 38: saving model to training_2\\cp-0038.ckpt\n",
      "\n",
      "Epoch 38: saving model to training_2\\cp-0038.ckpt\n",
      "\n",
      "Epoch 38: saving model to training_2\\cp-0038.ckpt\n",
      "\n",
      "Epoch 38: saving model to training_2\\cp-0038.ckpt\n",
      "\n",
      "Epoch 38: saving model to training_2\\cp-0038.ckpt\n",
      "\n",
      "Epoch 38: saving model to training_2\\cp-0038.ckpt\n",
      "\n",
      "Epoch 38: saving model to training_2\\cp-0038.ckpt\n",
      "\n",
      "Epoch 38: saving model to training_2\\cp-0038.ckpt\n",
      "\n",
      "Epoch 38: saving model to training_2\\cp-0038.ckpt\n",
      "\n",
      "Epoch 39: saving model to training_2\\cp-0039.ckpt\n",
      "\n",
      "Epoch 39: saving model to training_2\\cp-0039.ckpt\n",
      "\n",
      "Epoch 39: saving model to training_2\\cp-0039.ckpt\n",
      "\n",
      "Epoch 39: saving model to training_2\\cp-0039.ckpt\n",
      "\n",
      "Epoch 39: saving model to training_2\\cp-0039.ckpt\n",
      "\n",
      "Epoch 39: saving model to training_2\\cp-0039.ckpt\n",
      "\n",
      "Epoch 39: saving model to training_2\\cp-0039.ckpt\n",
      "\n",
      "Epoch 39: saving model to training_2\\cp-0039.ckpt\n",
      "\n",
      "Epoch 39: saving model to training_2\\cp-0039.ckpt\n",
      "\n",
      "Epoch 39: saving model to training_2\\cp-0039.ckpt\n",
      "\n",
      "Epoch 39: saving model to training_2\\cp-0039.ckpt\n",
      "\n",
      "Epoch 40: saving model to training_2\\cp-0040.ckpt\n",
      "\n",
      "Epoch 40: saving model to training_2\\cp-0040.ckpt\n",
      "\n",
      "Epoch 40: saving model to training_2\\cp-0040.ckpt\n",
      "\n",
      "Epoch 40: saving model to training_2\\cp-0040.ckpt\n",
      "\n",
      "Epoch 40: saving model to training_2\\cp-0040.ckpt\n",
      "\n",
      "Epoch 40: saving model to training_2\\cp-0040.ckpt\n",
      "\n",
      "Epoch 40: saving model to training_2\\cp-0040.ckpt\n",
      "\n",
      "Epoch 40: saving model to training_2\\cp-0040.ckpt\n",
      "\n",
      "Epoch 40: saving model to training_2\\cp-0040.ckpt\n",
      "\n",
      "Epoch 40: saving model to training_2\\cp-0040.ckpt\n",
      "\n",
      "Epoch 40: saving model to training_2\\cp-0040.ckpt\n",
      "\n",
      "Epoch 41: saving model to training_2\\cp-0041.ckpt\n",
      "\n",
      "Epoch 41: saving model to training_2\\cp-0041.ckpt\n",
      "\n",
      "Epoch 41: saving model to training_2\\cp-0041.ckpt\n",
      "\n",
      "Epoch 41: saving model to training_2\\cp-0041.ckpt\n",
      "\n",
      "Epoch 41: saving model to training_2\\cp-0041.ckpt\n",
      "\n",
      "Epoch 41: saving model to training_2\\cp-0041.ckpt\n",
      "\n",
      "Epoch 41: saving model to training_2\\cp-0041.ckpt\n",
      "\n",
      "Epoch 41: saving model to training_2\\cp-0041.ckpt\n",
      "\n",
      "Epoch 41: saving model to training_2\\cp-0041.ckpt\n",
      "\n",
      "Epoch 41: saving model to training_2\\cp-0041.ckpt\n",
      "\n",
      "Epoch 42: saving model to training_2\\cp-0042.ckpt\n",
      "\n",
      "Epoch 42: saving model to training_2\\cp-0042.ckpt\n",
      "\n",
      "Epoch 42: saving model to training_2\\cp-0042.ckpt\n",
      "\n",
      "Epoch 42: saving model to training_2\\cp-0042.ckpt\n",
      "\n",
      "Epoch 42: saving model to training_2\\cp-0042.ckpt\n",
      "\n",
      "Epoch 42: saving model to training_2\\cp-0042.ckpt\n",
      "\n",
      "Epoch 42: saving model to training_2\\cp-0042.ckpt\n",
      "\n",
      "Epoch 42: saving model to training_2\\cp-0042.ckpt\n",
      "\n",
      "Epoch 42: saving model to training_2\\cp-0042.ckpt\n",
      "\n",
      "Epoch 42: saving model to training_2\\cp-0042.ckpt\n",
      "\n",
      "Epoch 42: saving model to training_2\\cp-0042.ckpt\n",
      "\n",
      "Epoch 43: saving model to training_2\\cp-0043.ckpt\n",
      "\n",
      "Epoch 43: saving model to training_2\\cp-0043.ckpt\n",
      "\n",
      "Epoch 43: saving model to training_2\\cp-0043.ckpt\n",
      "\n",
      "Epoch 43: saving model to training_2\\cp-0043.ckpt\n",
      "\n",
      "Epoch 43: saving model to training_2\\cp-0043.ckpt\n",
      "\n",
      "Epoch 43: saving model to training_2\\cp-0043.ckpt\n",
      "\n",
      "Epoch 43: saving model to training_2\\cp-0043.ckpt\n",
      "\n",
      "Epoch 43: saving model to training_2\\cp-0043.ckpt\n",
      "\n",
      "Epoch 43: saving model to training_2\\cp-0043.ckpt\n",
      "\n",
      "Epoch 43: saving model to training_2\\cp-0043.ckpt\n",
      "\n",
      "Epoch 44: saving model to training_2\\cp-0044.ckpt\n",
      "\n",
      "Epoch 44: saving model to training_2\\cp-0044.ckpt\n",
      "\n",
      "Epoch 44: saving model to training_2\\cp-0044.ckpt\n",
      "\n",
      "Epoch 44: saving model to training_2\\cp-0044.ckpt\n",
      "\n",
      "Epoch 44: saving model to training_2\\cp-0044.ckpt\n",
      "\n",
      "Epoch 44: saving model to training_2\\cp-0044.ckpt\n",
      "\n",
      "Epoch 44: saving model to training_2\\cp-0044.ckpt\n",
      "\n",
      "Epoch 44: saving model to training_2\\cp-0044.ckpt\n",
      "\n",
      "Epoch 44: saving model to training_2\\cp-0044.ckpt\n",
      "\n",
      "Epoch 44: saving model to training_2\\cp-0044.ckpt\n",
      "\n",
      "Epoch 44: saving model to training_2\\cp-0044.ckpt\n",
      "\n",
      "Epoch 45: saving model to training_2\\cp-0045.ckpt\n",
      "\n",
      "Epoch 45: saving model to training_2\\cp-0045.ckpt\n",
      "\n",
      "Epoch 45: saving model to training_2\\cp-0045.ckpt\n",
      "\n",
      "Epoch 45: saving model to training_2\\cp-0045.ckpt\n",
      "\n",
      "Epoch 45: saving model to training_2\\cp-0045.ckpt\n",
      "\n",
      "Epoch 45: saving model to training_2\\cp-0045.ckpt\n",
      "\n",
      "Epoch 45: saving model to training_2\\cp-0045.ckpt\n",
      "\n",
      "Epoch 45: saving model to training_2\\cp-0045.ckpt\n",
      "\n",
      "Epoch 45: saving model to training_2\\cp-0045.ckpt\n",
      "\n",
      "Epoch 45: saving model to training_2\\cp-0045.ckpt\n",
      "\n",
      "Epoch 46: saving model to training_2\\cp-0046.ckpt\n",
      "\n",
      "Epoch 46: saving model to training_2\\cp-0046.ckpt\n",
      "\n",
      "Epoch 46: saving model to training_2\\cp-0046.ckpt\n",
      "\n",
      "Epoch 46: saving model to training_2\\cp-0046.ckpt\n",
      "\n",
      "Epoch 46: saving model to training_2\\cp-0046.ckpt\n",
      "\n",
      "Epoch 46: saving model to training_2\\cp-0046.ckpt\n",
      "\n",
      "Epoch 46: saving model to training_2\\cp-0046.ckpt\n",
      "\n",
      "Epoch 46: saving model to training_2\\cp-0046.ckpt\n",
      "\n",
      "Epoch 46: saving model to training_2\\cp-0046.ckpt\n",
      "\n",
      "Epoch 46: saving model to training_2\\cp-0046.ckpt\n",
      "\n",
      "Epoch 46: saving model to training_2\\cp-0046.ckpt\n",
      "\n",
      "Epoch 47: saving model to training_2\\cp-0047.ckpt\n",
      "\n",
      "Epoch 47: saving model to training_2\\cp-0047.ckpt\n",
      "\n",
      "Epoch 47: saving model to training_2\\cp-0047.ckpt\n",
      "\n",
      "Epoch 47: saving model to training_2\\cp-0047.ckpt\n",
      "\n",
      "Epoch 47: saving model to training_2\\cp-0047.ckpt\n",
      "\n",
      "Epoch 47: saving model to training_2\\cp-0047.ckpt\n",
      "\n",
      "Epoch 47: saving model to training_2\\cp-0047.ckpt\n",
      "\n",
      "Epoch 47: saving model to training_2\\cp-0047.ckpt\n",
      "\n",
      "Epoch 47: saving model to training_2\\cp-0047.ckpt\n",
      "\n",
      "Epoch 47: saving model to training_2\\cp-0047.ckpt\n",
      "\n",
      "Epoch 48: saving model to training_2\\cp-0048.ckpt\n",
      "\n",
      "Epoch 48: saving model to training_2\\cp-0048.ckpt\n",
      "\n",
      "Epoch 48: saving model to training_2\\cp-0048.ckpt\n",
      "\n",
      "Epoch 48: saving model to training_2\\cp-0048.ckpt\n",
      "\n",
      "Epoch 48: saving model to training_2\\cp-0048.ckpt\n",
      "\n",
      "Epoch 48: saving model to training_2\\cp-0048.ckpt\n",
      "\n",
      "Epoch 48: saving model to training_2\\cp-0048.ckpt\n",
      "\n",
      "Epoch 48: saving model to training_2\\cp-0048.ckpt\n",
      "\n",
      "Epoch 48: saving model to training_2\\cp-0048.ckpt\n",
      "\n",
      "Epoch 48: saving model to training_2\\cp-0048.ckpt\n",
      "\n",
      "Epoch 48: saving model to training_2\\cp-0048.ckpt\n",
      "\n",
      "Epoch 49: saving model to training_2\\cp-0049.ckpt\n",
      "\n",
      "Epoch 49: saving model to training_2\\cp-0049.ckpt\n",
      "\n",
      "Epoch 49: saving model to training_2\\cp-0049.ckpt\n",
      "\n",
      "Epoch 49: saving model to training_2\\cp-0049.ckpt\n",
      "\n",
      "Epoch 49: saving model to training_2\\cp-0049.ckpt\n",
      "\n",
      "Epoch 49: saving model to training_2\\cp-0049.ckpt\n",
      "\n",
      "Epoch 49: saving model to training_2\\cp-0049.ckpt\n",
      "\n",
      "Epoch 49: saving model to training_2\\cp-0049.ckpt\n",
      "\n",
      "Epoch 49: saving model to training_2\\cp-0049.ckpt\n",
      "\n",
      "Epoch 49: saving model to training_2\\cp-0049.ckpt\n",
      "\n",
      "Epoch 50: saving model to training_2\\cp-0050.ckpt\n",
      "\n",
      "Epoch 50: saving model to training_2\\cp-0050.ckpt\n",
      "\n",
      "Epoch 50: saving model to training_2\\cp-0050.ckpt\n",
      "\n",
      "Epoch 50: saving model to training_2\\cp-0050.ckpt\n",
      "\n",
      "Epoch 50: saving model to training_2\\cp-0050.ckpt\n",
      "\n",
      "Epoch 50: saving model to training_2\\cp-0050.ckpt\n",
      "\n",
      "Epoch 50: saving model to training_2\\cp-0050.ckpt\n",
      "\n",
      "Epoch 50: saving model to training_2\\cp-0050.ckpt\n",
      "\n",
      "Epoch 50: saving model to training_2\\cp-0050.ckpt\n",
      "\n",
      "Epoch 50: saving model to training_2\\cp-0050.ckpt\n",
      "\n",
      "Epoch 50: saving model to training_2\\cp-0050.ckpt\n"
     ]
    },
    {
     "data": {
      "text/plain": [
       "<keras.callbacks.History at 0x2e2afabd150>"
      ]
     },
     "execution_count": 31,
     "metadata": {},
     "output_type": "execute_result"
    }
   ],
   "source": [
    "# Include the epoch in the file name (uses `str.format`)\n",
    "checkpoint_path = \"training_2/cp-{epoch:04d}.ckpt\"\n",
    "checkpoint_dir = os.path.dirname(checkpoint_path)\n",
    "\n",
    "batch_size = 32\n",
    "\n",
    "# Create a callback that saves the model's weights every 5 epochs\n",
    "cp_callback = tf.keras.callbacks.ModelCheckpoint(\n",
    "    filepath=checkpoint_path, \n",
    "    verbose=1, \n",
    "    save_weights_only=True,\n",
    "    save_freq=5*batch_size)\n",
    "\n",
    "# Create a new model instance\n",
    "model = create_model()\n",
    "\n",
    "# Save the weights using the `checkpoint_path` format\n",
    "model.save_weights(checkpoint_path.format(epoch=0))\n",
    "\n",
    "# Train the model with the new callback\n",
    "model.fit(train_ds,\n",
    "          epochs=50, \n",
    "          batch_size=batch_size, \n",
    "          callbacks=[cp_callback],\n",
    "          validation_data=(X_test, y_test),\n",
    "          verbose=0)"
   ]
  },
  {
   "cell_type": "code",
   "execution_count": 35,
   "metadata": {},
   "outputs": [
    {
     "data": {
      "text/plain": [
       "['checkpoint',\n",
       " 'cp-0000.ckpt.data-00000-of-00001',\n",
       " 'cp-0000.ckpt.index',\n",
       " 'cp-0001.ckpt.data-00000-of-00001',\n",
       " 'cp-0001.ckpt.index',\n",
       " 'cp-0002.ckpt.data-00000-of-00001',\n",
       " 'cp-0002.ckpt.index',\n",
       " 'cp-0003.ckpt.data-00000-of-00001',\n",
       " 'cp-0003.ckpt.index',\n",
       " 'cp-0004.ckpt.data-00000-of-00001',\n",
       " 'cp-0004.ckpt.index',\n",
       " 'cp-0005.ckpt.data-00000-of-00001',\n",
       " 'cp-0005.ckpt.index',\n",
       " 'cp-0006.ckpt.data-00000-of-00001',\n",
       " 'cp-0006.ckpt.index',\n",
       " 'cp-0007.ckpt.data-00000-of-00001',\n",
       " 'cp-0007.ckpt.index',\n",
       " 'cp-0008.ckpt.data-00000-of-00001',\n",
       " 'cp-0008.ckpt.index',\n",
       " 'cp-0009.ckpt.data-00000-of-00001',\n",
       " 'cp-0009.ckpt.index',\n",
       " 'cp-0010.ckpt.data-00000-of-00001',\n",
       " 'cp-0010.ckpt.index',\n",
       " 'cp-0011.ckpt.data-00000-of-00001',\n",
       " 'cp-0011.ckpt.index',\n",
       " 'cp-0012.ckpt.data-00000-of-00001',\n",
       " 'cp-0012.ckpt.index',\n",
       " 'cp-0013.ckpt.data-00000-of-00001',\n",
       " 'cp-0013.ckpt.index',\n",
       " 'cp-0014.ckpt.data-00000-of-00001',\n",
       " 'cp-0014.ckpt.index',\n",
       " 'cp-0015.ckpt.data-00000-of-00001',\n",
       " 'cp-0015.ckpt.index',\n",
       " 'cp-0016.ckpt.data-00000-of-00001',\n",
       " 'cp-0016.ckpt.index',\n",
       " 'cp-0017.ckpt.data-00000-of-00001',\n",
       " 'cp-0017.ckpt.index',\n",
       " 'cp-0018.ckpt.data-00000-of-00001',\n",
       " 'cp-0018.ckpt.index',\n",
       " 'cp-0019.ckpt.data-00000-of-00001',\n",
       " 'cp-0019.ckpt.index',\n",
       " 'cp-0020.ckpt.data-00000-of-00001',\n",
       " 'cp-0020.ckpt.index',\n",
       " 'cp-0021.ckpt.data-00000-of-00001',\n",
       " 'cp-0021.ckpt.index',\n",
       " 'cp-0022.ckpt.data-00000-of-00001',\n",
       " 'cp-0022.ckpt.index',\n",
       " 'cp-0023.ckpt.data-00000-of-00001',\n",
       " 'cp-0023.ckpt.index',\n",
       " 'cp-0024.ckpt.data-00000-of-00001',\n",
       " 'cp-0024.ckpt.index',\n",
       " 'cp-0025.ckpt.data-00000-of-00001',\n",
       " 'cp-0025.ckpt.index',\n",
       " 'cp-0026.ckpt.data-00000-of-00001',\n",
       " 'cp-0026.ckpt.index',\n",
       " 'cp-0027.ckpt.data-00000-of-00001',\n",
       " 'cp-0027.ckpt.index',\n",
       " 'cp-0028.ckpt.data-00000-of-00001',\n",
       " 'cp-0028.ckpt.index',\n",
       " 'cp-0029.ckpt.data-00000-of-00001',\n",
       " 'cp-0029.ckpt.index',\n",
       " 'cp-0030.ckpt.data-00000-of-00001',\n",
       " 'cp-0030.ckpt.index',\n",
       " 'cp-0031.ckpt.data-00000-of-00001',\n",
       " 'cp-0031.ckpt.index',\n",
       " 'cp-0032.ckpt.data-00000-of-00001',\n",
       " 'cp-0032.ckpt.index',\n",
       " 'cp-0033.ckpt.data-00000-of-00001',\n",
       " 'cp-0033.ckpt.index',\n",
       " 'cp-0034.ckpt.data-00000-of-00001',\n",
       " 'cp-0034.ckpt.index',\n",
       " 'cp-0035.ckpt.data-00000-of-00001',\n",
       " 'cp-0035.ckpt.index',\n",
       " 'cp-0036.ckpt.data-00000-of-00001',\n",
       " 'cp-0036.ckpt.index',\n",
       " 'cp-0037.ckpt.data-00000-of-00001',\n",
       " 'cp-0037.ckpt.index',\n",
       " 'cp-0038.ckpt.data-00000-of-00001',\n",
       " 'cp-0038.ckpt.index',\n",
       " 'cp-0039.ckpt.data-00000-of-00001',\n",
       " 'cp-0039.ckpt.index',\n",
       " 'cp-0040.ckpt.data-00000-of-00001',\n",
       " 'cp-0040.ckpt.index',\n",
       " 'cp-0041.ckpt.data-00000-of-00001',\n",
       " 'cp-0041.ckpt.index',\n",
       " 'cp-0042.ckpt.data-00000-of-00001',\n",
       " 'cp-0042.ckpt.index',\n",
       " 'cp-0043.ckpt.data-00000-of-00001',\n",
       " 'cp-0043.ckpt.index',\n",
       " 'cp-0044.ckpt.data-00000-of-00001',\n",
       " 'cp-0044.ckpt.index',\n",
       " 'cp-0045.ckpt.data-00000-of-00001',\n",
       " 'cp-0045.ckpt.index',\n",
       " 'cp-0046.ckpt.data-00000-of-00001',\n",
       " 'cp-0046.ckpt.index',\n",
       " 'cp-0047.ckpt.data-00000-of-00001',\n",
       " 'cp-0047.ckpt.index',\n",
       " 'cp-0048.ckpt.data-00000-of-00001',\n",
       " 'cp-0048.ckpt.index',\n",
       " 'cp-0049.ckpt.data-00000-of-00001',\n",
       " 'cp-0049.ckpt.index',\n",
       " 'cp-0050.ckpt.data-00000-of-00001',\n",
       " 'cp-0050.ckpt.index']"
      ]
     },
     "execution_count": 35,
     "metadata": {},
     "output_type": "execute_result"
    }
   ],
   "source": [
    "os.listdir(checkpoint_dir)"
   ]
  },
  {
   "cell_type": "code",
   "execution_count": 36,
   "metadata": {},
   "outputs": [
    {
     "data": {
      "text/plain": [
       "'training_2\\\\cp-0050.ckpt'"
      ]
     },
     "execution_count": 36,
     "metadata": {},
     "output_type": "execute_result"
    }
   ],
   "source": [
    "latest = tf.train.latest_checkpoint(checkpoint_dir)\n",
    "latest"
   ]
  },
  {
   "attachments": {},
   "cell_type": "markdown",
   "metadata": {},
   "source": [
    "#### Aby przetestować, zresetujemy model i załadujemy najnowszy punkt kontrolny"
   ]
  },
  {
   "cell_type": "code",
   "execution_count": 37,
   "metadata": {},
   "outputs": [
    {
     "name": "stdout",
     "output_type": "stream",
     "text": [
      "188/188 - 1s - loss: 0.5488 - accuracy: 0.8928 - 605ms/epoch - 3ms/step\n",
      "Restored model, accuracy: 89.28%\n"
     ]
    }
   ],
   "source": [
    "# Create a new model instance\n",
    "model = create_model()\n",
    "\n",
    "# Load the previously saved weights\n",
    "model.load_weights(latest)\n",
    "\n",
    "# Re-evaluate the model\n",
    "loss, acc = model.evaluate(X_test, y_test, verbose=2)\n",
    "print(\"Restored model, accuracy: {:5.2f}%\".format(100 * acc))"
   ]
  },
  {
   "attachments": {},
   "cell_type": "markdown",
   "metadata": {},
   "source": [
    "### Zapisywanie całego modelu"
   ]
  },
  {
   "cell_type": "code",
   "execution_count": 38,
   "metadata": {},
   "outputs": [
    {
     "name": "stdout",
     "output_type": "stream",
     "text": [
      "Epoch 1/5\n",
      "1688/1688 [==============================] - 9s 5ms/step - loss: 0.5024 - accuracy: 0.8159\n",
      "Epoch 2/5\n",
      "1688/1688 [==============================] - 8s 5ms/step - loss: 0.3760 - accuracy: 0.8613\n",
      "Epoch 3/5\n",
      "1688/1688 [==============================] - 8s 5ms/step - loss: 0.3357 - accuracy: 0.8777\n",
      "Epoch 4/5\n",
      "1688/1688 [==============================] - 8s 5ms/step - loss: 0.3109 - accuracy: 0.8857\n",
      "Epoch 5/5\n",
      "1688/1688 [==============================] - 9s 5ms/step - loss: 0.2953 - accuracy: 0.8904\n"
     ]
    },
    {
     "name": "stderr",
     "output_type": "stream",
     "text": [
      "WARNING:absl:Found untraced functions such as _update_step_xla while saving (showing 1 of 1). These functions will not be directly callable after loading.\n"
     ]
    },
    {
     "name": "stdout",
     "output_type": "stream",
     "text": [
      "INFO:tensorflow:Assets written to: saved_model/my_model\\assets\n"
     ]
    },
    {
     "name": "stderr",
     "output_type": "stream",
     "text": [
      "INFO:tensorflow:Assets written to: saved_model/my_model\\assets\n"
     ]
    }
   ],
   "source": [
    "# Create and train a new model instance.\n",
    "model = create_model()\n",
    "model.fit(train_ds, epochs=5)\n",
    "\n",
    "# Save the entire model as a SavedModel.\n",
    "!mkdir -p saved_model\n",
    "model.save('saved_model/my_model')"
   ]
  },
  {
   "attachments": {},
   "cell_type": "markdown",
   "metadata": {},
   "source": [
    "#### Przeładowujemy nowy model Keras z zapisanego modelu"
   ]
  },
  {
   "cell_type": "code",
   "execution_count": 40,
   "metadata": {},
   "outputs": [
    {
     "name": "stdout",
     "output_type": "stream",
     "text": [
      "Model: \"sequential_7\"\n",
      "_________________________________________________________________\n",
      " Layer (type)                Output Shape              Param #   \n",
      "=================================================================\n",
      " flatten_7 (Flatten)         (None, 784)               0         \n",
      "                                                                 \n",
      " dense_35 (Dense)            (None, 300)               235500    \n",
      "                                                                 \n",
      " dense_36 (Dense)            (None, 200)               60200     \n",
      "                                                                 \n",
      " dense_37 (Dense)            (None, 150)               30150     \n",
      "                                                                 \n",
      " dense_38 (Dense)            (None, 100)               15100     \n",
      "                                                                 \n",
      " dense_39 (Dense)            (None, 10)                1010      \n",
      "                                                                 \n",
      "=================================================================\n",
      "Total params: 341,960\n",
      "Trainable params: 341,960\n",
      "Non-trainable params: 0\n",
      "_________________________________________________________________\n"
     ]
    }
   ],
   "source": [
    "new_model = tf.keras.models.load_model('saved_model/my_model')\n",
    "\n",
    "# Check its architecture\n",
    "new_model.summary()"
   ]
  },
  {
   "attachments": {},
   "cell_type": "markdown",
   "metadata": {},
   "source": [
    "### Próba przeprowadzenia oceny i prognozy z załadowanym modelem"
   ]
  },
  {
   "cell_type": "code",
   "execution_count": 41,
   "metadata": {},
   "outputs": [
    {
     "name": "stdout",
     "output_type": "stream",
     "text": [
      "188/188 - 1s - loss: 0.3325 - accuracy: 0.8730 - 513ms/epoch - 3ms/step\n",
      "Restored model, accuracy: 87.30%\n",
      "188/188 [==============================] - 1s 2ms/step\n",
      "(6000, 10)\n"
     ]
    }
   ],
   "source": [
    "# Evaluate the restored model\n",
    "loss, acc = new_model.evaluate(X_test, y_test, verbose=2)\n",
    "print('Restored model, accuracy: {:5.2f}%'.format(100 * acc))\n",
    "\n",
    "print(new_model.predict(X_test).shape)"
   ]
  },
  {
   "cell_type": "code",
   "execution_count": 42,
   "metadata": {},
   "outputs": [
    {
     "name": "stdout",
     "output_type": "stream",
     "text": [
      "188/188 [==============================] - 0s 2ms/step\n",
      "probs :  [8.8168832e-08 3.3006856e-08 8.1174910e-08 9.2237080e-08 9.3882264e-08\n",
      " 8.8617811e-03 1.4648687e-08 9.9001795e-01 1.7787712e-05 1.1021026e-03]\n",
      "klasa : 7\n",
      "rzeczywista klasa:  7\n"
     ]
    },
    {
     "data": {
      "text/plain": [
       "'\\nprobs :  [4.0548810e-15 1.0000000e+00 9.3477974e-17 5.3090128e-13 7.5702587e-15\\n 5.9295928e-25 2.1536054e-11 3.4459677e-24 2.8725664e-16 2.4974258e-22]\\nklasa : 1\\nrzeczywista klasa:  1\\n'"
      ]
     },
     "execution_count": 42,
     "metadata": {},
     "output_type": "execute_result"
    }
   ],
   "source": [
    "y_pred = model.predict(X_test)\n",
    "print(\"probs : \", y_pred[2])\n",
    "print(\"klasa :\", np.argmax(y_pred[2]))\n",
    "print(\"rzeczywista klasa: \", y_test[2])"
   ]
  },
  {
   "cell_type": "code",
   "execution_count": 53,
   "metadata": {},
   "outputs": [],
   "source": [
    "import albumentations as A\n",
    "import cv2\n",
    "import tensorflow as tf\n",
    "import numpy as np\n",
    "import matplotlib.pyplot as plt\n",
    "import tensorflow_datasets as tfds\n",
    "from functools import partial\n",
    "from albumentations import (\n",
    "    Compose, RandomBrightness, JpegCompression, HueSaturationValue, RandomContrast, HorizontalFlip,\n",
    "    Rotate)"
   ]
  },
  {
   "cell_type": "code",
   "execution_count": 54,
   "metadata": {},
   "outputs": [],
   "source": [
    "AUTOTUNE = tf.data.experimental.AUTOTUNE"
   ]
  },
  {
   "cell_type": "code",
   "execution_count": 55,
   "metadata": {},
   "outputs": [
    {
     "data": {
      "text/plain": [
       "'4.8.2'"
      ]
     },
     "execution_count": 55,
     "metadata": {},
     "output_type": "execute_result"
    }
   ],
   "source": [
    "tfds.__version__"
   ]
  },
  {
   "cell_type": "code",
   "execution_count": 110,
   "metadata": {},
   "outputs": [
    {
     "name": "stdout",
     "output_type": "stream",
     "text": [
      "Downloading and preparing dataset Unknown size (download: Unknown size, generated: Unknown size, total: Unknown size) to C:\\Users\\magda\\tensorflow_datasets\\fashion_mnist\\3.0.1...\n"
     ]
    },
    {
     "data": {
      "application/vnd.jupyter.widget-view+json": {
       "model_id": "84a508786146403aab01eec5184cc23a",
       "version_major": 2,
       "version_minor": 0
      },
      "text/plain": [
       "Dl Completed...: 0 url [00:00, ? url/s]"
      ]
     },
     "metadata": {},
     "output_type": "display_data"
    },
    {
     "data": {
      "application/vnd.jupyter.widget-view+json": {
       "model_id": "f41072d2f0e54a41b7cac9ff101adc74",
       "version_major": 2,
       "version_minor": 0
      },
      "text/plain": [
       "Dl Size...: 0 MiB [00:00, ? MiB/s]"
      ]
     },
     "metadata": {},
     "output_type": "display_data"
    },
    {
     "data": {
      "application/vnd.jupyter.widget-view+json": {
       "model_id": "1265152baa164f9e8eceada5cc271da7",
       "version_major": 2,
       "version_minor": 0
      },
      "text/plain": [
       "Extraction completed...: 0 file [00:00, ? file/s]"
      ]
     },
     "metadata": {},
     "output_type": "display_data"
    },
    {
     "data": {
      "application/vnd.jupyter.widget-view+json": {
       "model_id": "50a95fb3f4d747c2a538fcfe1d26ebf1",
       "version_major": 2,
       "version_minor": 0
      },
      "text/plain": [
       "Generating splits...:   0%|          | 0/2 [00:00<?, ? splits/s]"
      ]
     },
     "metadata": {},
     "output_type": "display_data"
    },
    {
     "data": {
      "application/vnd.jupyter.widget-view+json": {
       "model_id": "be176ad4cd3e44cfb13a83a1a0b52bc7",
       "version_major": 2,
       "version_minor": 0
      },
      "text/plain": [
       "Generating train examples...: 0 examples [00:00, ? examples/s]"
      ]
     },
     "metadata": {},
     "output_type": "display_data"
    },
    {
     "data": {
      "application/vnd.jupyter.widget-view+json": {
       "model_id": "6084567825034c1ca7f7469918087681",
       "version_major": 2,
       "version_minor": 0
      },
      "text/plain": [
       "Shuffling C:\\Users\\magda\\tensorflow_datasets\\fashion_mnist\\3.0.1.incompleteZSM3KI\\fashion_mnist-train.tfrecord…"
      ]
     },
     "metadata": {},
     "output_type": "display_data"
    },
    {
     "data": {
      "application/vnd.jupyter.widget-view+json": {
       "model_id": "e76c21c92a0846d89603cef0e9ba3d13",
       "version_major": 2,
       "version_minor": 0
      },
      "text/plain": [
       "Generating test examples...: 0 examples [00:00, ? examples/s]"
      ]
     },
     "metadata": {},
     "output_type": "display_data"
    },
    {
     "data": {
      "application/vnd.jupyter.widget-view+json": {
       "model_id": "445f3d8fa37944aa851c8fc034454efc",
       "version_major": 2,
       "version_minor": 0
      },
      "text/plain": [
       "Shuffling C:\\Users\\magda\\tensorflow_datasets\\fashion_mnist\\3.0.1.incompleteZSM3KI\\fashion_mnist-test.tfrecord*…"
      ]
     },
     "metadata": {},
     "output_type": "display_data"
    },
    {
     "name": "stdout",
     "output_type": "stream",
     "text": [
      "Dataset fashion_mnist downloaded and prepared to C:\\Users\\magda\\tensorflow_datasets\\fashion_mnist\\3.0.1. Subsequent calls will reuse this data.\n"
     ]
    },
    {
     "data": {
      "text/plain": [
       "<PrefetchDataset element_spec=(TensorSpec(shape=(28, 28, 1), dtype=tf.uint8, name=None), TensorSpec(shape=(), dtype=tf.int64, name=None))>"
      ]
     },
     "execution_count": 110,
     "metadata": {},
     "output_type": "execute_result"
    }
   ],
   "source": [
    "tf.keras.datasets.fashion_mnist.load_data()\n",
    "data, info = tfds.load(name='fashion_mnist', split=\"train\", as_supervised=True, with_info=True)\n",
    "data"
   ]
  },
  {
   "cell_type": "code",
   "execution_count": 111,
   "metadata": {},
   "outputs": [
    {
     "data": {
      "text/plain": [
       "tfds.core.DatasetInfo(\n",
       "    name='fashion_mnist',\n",
       "    full_name='fashion_mnist/3.0.1',\n",
       "    description=\"\"\"\n",
       "    Fashion-MNIST is a dataset of Zalando's article images consisting of a training set of 60,000 examples and a test set of 10,000 examples. Each example is a 28x28 grayscale image, associated with a label from 10 classes.\n",
       "    \"\"\",\n",
       "    homepage='https://github.com/zalandoresearch/fashion-mnist',\n",
       "    data_path='C:\\\\Users\\\\magda\\\\tensorflow_datasets\\\\fashion_mnist\\\\3.0.1',\n",
       "    file_format=tfrecord,\n",
       "    download_size=29.45 MiB,\n",
       "    dataset_size=36.42 MiB,\n",
       "    features=FeaturesDict({\n",
       "        'image': Image(shape=(28, 28, 1), dtype=uint8),\n",
       "        'label': ClassLabel(shape=(), dtype=int64, num_classes=10),\n",
       "    }),\n",
       "    supervised_keys=('image', 'label'),\n",
       "    disable_shuffling=False,\n",
       "    splits={\n",
       "        'test': <SplitInfo num_examples=10000, num_shards=1>,\n",
       "        'train': <SplitInfo num_examples=60000, num_shards=1>,\n",
       "    },\n",
       "    citation=\"\"\"@article{DBLP:journals/corr/abs-1708-07747,\n",
       "      author    = {Han Xiao and\n",
       "                   Kashif Rasul and\n",
       "                   Roland Vollgraf},\n",
       "      title     = {Fashion-MNIST: a Novel Image Dataset for Benchmarking Machine Learning\n",
       "                   Algorithms},\n",
       "      journal   = {CoRR},\n",
       "      volume    = {abs/1708.07747},\n",
       "      year      = {2017},\n",
       "      url       = {http://arxiv.org/abs/1708.07747},\n",
       "      archivePrefix = {arXiv},\n",
       "      eprint    = {1708.07747},\n",
       "      timestamp = {Mon, 13 Aug 2018 16:47:27 +0200},\n",
       "      biburl    = {https://dblp.org/rec/bib/journals/corr/abs-1708-07747},\n",
       "      bibsource = {dblp computer science bibliography, https://dblp.org}\n",
       "    }\"\"\",\n",
       ")"
      ]
     },
     "execution_count": 111,
     "metadata": {},
     "output_type": "execute_result"
    }
   ],
   "source": [
    "info"
   ]
  },
  {
   "attachments": {},
   "cell_type": "markdown",
   "metadata": {},
   "source": [
    "### An Example Pipeline Using tf.image"
   ]
  },
  {
   "attachments": {},
   "cell_type": "markdown",
   "metadata": {},
   "source": [
    "#### Process Data"
   ]
  },
  {
   "cell_type": "code",
   "execution_count": 113,
   "metadata": {},
   "outputs": [
    {
     "data": {
      "text/plain": [
       "<PrefetchDataset element_spec=(TensorSpec(shape=(None, 28, 28, 1), dtype=tf.float32, name=None), TensorSpec(shape=(None,), dtype=tf.int64, name=None))>"
      ]
     },
     "execution_count": 113,
     "metadata": {},
     "output_type": "execute_result"
    }
   ],
   "source": [
    "def process_image(image, label, img_size):\n",
    "    # cast and normalize image\n",
    "    image = tf.image.convert_image_dtype(image, tf.float32)\n",
    "    # apply simple augmentations\n",
    "    image = tf.image.random_flip_left_right(image)\n",
    "    image = tf.image.resize(image,[img_size, img_size])\n",
    "    return image, label\n",
    "\n",
    "ds_tf = data.map(partial(process_image, img_size=28), num_parallel_calls=AUTOTUNE).batch(32).prefetch(AUTOTUNE)\n",
    "ds_tf"
   ]
  },
  {
   "attachments": {},
   "cell_type": "markdown",
   "metadata": {},
   "source": [
    "#### View images from the dataset"
   ]
  },
  {
   "cell_type": "code",
   "execution_count": 114,
   "metadata": {},
   "outputs": [],
   "source": [
    "def view_image(ds):\n",
    "    image, label = next(iter(ds)) # extract 1 batch from the dataset\n",
    "    image = image.numpy()\n",
    "    label = label.numpy()\n",
    "    \n",
    "    fig = plt.figure(figsize=(22, 22))\n",
    "    for i in range(20):\n",
    "        ax = fig.add_subplot(4, 5, i+1, xticks=[], yticks=[])\n",
    "        ax.imshow(image[i])\n",
    "        ax.set_title(f\"Label: {label[i]}\")"
   ]
  },
  {
   "cell_type": "code",
   "execution_count": 115,
   "metadata": {},
   "outputs": [
    {
     "data": {
      "image/png": "[encoded data removed]",
      "text/plain": [
       "<Figure size 2200x2200 with 20 Axes>"
      ]
     },
     "metadata": {},
     "output_type": "display_data"
    }
   ],
   "source": [
    "view_image(ds_tf)"
   ]
  },
  {
   "cell_type": "code",
   "execution_count": 150,
   "metadata": {},
   "outputs": [
    {
     "name": "stdout",
     "output_type": "stream",
     "text": [
      "Model: \"sequential_10\"\n",
      "_________________________________________________________________\n",
      " Layer (type)                Output Shape              Param #   \n",
      "=================================================================\n",
      " flatten_10 (Flatten)        (None, 784)               0         \n",
      "                                                                 \n",
      " dense_50 (Dense)            (None, 300)               235500    \n",
      "                                                                 \n",
      " dense_51 (Dense)            (None, 200)               60200     \n",
      "                                                                 \n",
      " dense_52 (Dense)            (None, 150)               30150     \n",
      "                                                                 \n",
      " dense_53 (Dense)            (None, 100)               15100     \n",
      "                                                                 \n",
      " dense_54 (Dense)            (None, 10)                1010      \n",
      "                                                                 \n",
      "=================================================================\n",
      "Total params: 341,960\n",
      "Trainable params: 341,960\n",
      "Non-trainable params: 0\n",
      "_________________________________________________________________\n"
     ]
    }
   ],
   "source": [
    "n_model = create_model()\n",
    "n_model.summary()"
   ]
  },
  {
   "cell_type": "code",
   "execution_count": 151,
   "metadata": {},
   "outputs": [
    {
     "name": "stdout",
     "output_type": "stream",
     "text": [
      "Epoch 1/10\n",
      "1875/1875 [==============================] - 10s 5ms/step - loss: 0.5141 - accuracy: 0.8119\n",
      "Epoch 2/10\n",
      "1875/1875 [==============================] - 9s 5ms/step - loss: 0.3878 - accuracy: 0.8581\n",
      "Epoch 3/10\n",
      "1875/1875 [==============================] - 9s 5ms/step - loss: 0.3516 - accuracy: 0.8700\n",
      "Epoch 4/10\n",
      "1875/1875 [==============================] - 9s 5ms/step - loss: 0.3310 - accuracy: 0.8773\n",
      "Epoch 5/10\n",
      "1875/1875 [==============================] - 10s 5ms/step - loss: 0.3132 - accuracy: 0.8832\n",
      "Epoch 6/10\n",
      "1875/1875 [==============================] - 9s 5ms/step - loss: 0.2993 - accuracy: 0.8892\n",
      "Epoch 7/10\n",
      "1875/1875 [==============================] - 9s 5ms/step - loss: 0.2857 - accuracy: 0.8929\n",
      "Epoch 8/10\n",
      "1875/1875 [==============================] - 9s 5ms/step - loss: 0.2749 - accuracy: 0.8958\n",
      "Epoch 9/10\n",
      "1875/1875 [==============================] - 9s 5ms/step - loss: 0.2658 - accuracy: 0.9005\n",
      "Epoch 10/10\n",
      "1875/1875 [==============================] - 9s 5ms/step - loss: 0.2581 - accuracy: 0.9020\n"
     ]
    },
    {
     "data": {
      "text/plain": [
       "<keras.callbacks.History at 0x2e2be643df0>"
      ]
     },
     "execution_count": 151,
     "metadata": {},
     "output_type": "execute_result"
    }
   ],
   "source": [
    "n_model.fit(ds_tf, epochs=10)"
   ]
  },
  {
   "attachments": {},
   "cell_type": "markdown",
   "metadata": {},
   "source": [
    "### An Example Pipeline using albumentations"
   ]
  },
  {
   "attachments": {},
   "cell_type": "markdown",
   "metadata": {},
   "source": [
    "#### Create Pipeline to Process data"
   ]
  },
  {
   "cell_type": "code",
   "execution_count": 116,
   "metadata": {},
   "outputs": [
    {
     "name": "stderr",
     "output_type": "stream",
     "text": [
      "c:\\Users\\magda\\AppData\\Local\\Programs\\Python\\Python310\\lib\\site-packages\\albumentations\\augmentations\\transforms.py:1149: FutureWarning: This class has been deprecated. Please use RandomBrightnessContrast\n",
      "  warnings.warn(\n",
      "c:\\Users\\magda\\AppData\\Local\\Programs\\Python\\Python310\\lib\\site-packages\\albumentations\\augmentations\\transforms.py:316: FutureWarning: JpegCompression has been deprecated. Please use ImageCompression\n",
      "  warnings.warn(\n",
      "c:\\Users\\magda\\AppData\\Local\\Programs\\Python\\Python310\\lib\\site-packages\\albumentations\\augmentations\\transforms.py:1175: FutureWarning: RandomContrast has been deprecated. Please use RandomBrightnessContrast\n",
      "  warnings.warn(\n"
     ]
    }
   ],
   "source": [
    "# Instantiate augments\n",
    "# we can apply as many augments we want and adjust the values accordingly\n",
    "# here I have chosen the augments and their arguments at random\n",
    "transforms = Compose([\n",
    "            Rotate(limit=40),\n",
    "            RandomBrightness(limit=0.1),\n",
    "            JpegCompression(quality_lower=85, quality_upper=100, p=0.5),\n",
    "            HueSaturationValue(hue_shift_limit=20, sat_shift_limit=30, \n",
    "                               val_shift_limit=20, p=0.5),\n",
    "            RandomContrast(limit=0.2, p=0.5),\n",
    "            HorizontalFlip(),\n",
    "        ])"
   ]
  },
  {
   "cell_type": "code",
   "execution_count": 117,
   "metadata": {},
   "outputs": [],
   "source": [
    "def aug_fn(image, img_size):\n",
    "    data = {\"image\":image}\n",
    "    aug_data = transforms(**data)\n",
    "    aug_img = aug_data[\"image\"]\n",
    "    aug_img = tf.cast(aug_img/255.0, tf.float32)\n",
    "    aug_img = tf.image.resize(aug_img, size=[img_size, img_size])\n",
    "    return aug_img"
   ]
  },
  {
   "cell_type": "code",
   "execution_count": 122,
   "metadata": {},
   "outputs": [],
   "source": [
    "def process_data(image, label, img_size):\n",
    "    aug_img = tf.numpy_function(func=aug_fn, inp=[image, img_size], Tout=tf.float32)\n",
    "    return aug_img, label"
   ]
  },
  {
   "cell_type": "code",
   "execution_count": 123,
   "metadata": {},
   "outputs": [
    {
     "data": {
      "text/plain": [
       "<PrefetchDataset element_spec=(TensorSpec(shape=<unknown>, dtype=tf.float32, name=None), TensorSpec(shape=(), dtype=tf.int64, name=None))>"
      ]
     },
     "execution_count": 123,
     "metadata": {},
     "output_type": "execute_result"
    }
   ],
   "source": [
    "# create dataset\n",
    "ds_alb = data.map(partial(process_data, img_size=28),\n",
    "                  num_parallel_calls=AUTOTUNE).prefetch(AUTOTUNE)\n",
    "ds_alb"
   ]
  },
  {
   "attachments": {},
   "cell_type": "markdown",
   "metadata": {},
   "source": [
    "#### Restoring dataset shapes"
   ]
  },
  {
   "cell_type": "code",
   "execution_count": 124,
   "metadata": {},
   "outputs": [],
   "source": [
    "def set_shapes(img, label, img_shape=(28,28,1)):\n",
    "    img.set_shape(img_shape)\n",
    "    label.set_shape([])\n",
    "    return img, label"
   ]
  },
  {
   "cell_type": "code",
   "execution_count": 125,
   "metadata": {},
   "outputs": [
    {
     "data": {
      "text/plain": [
       "<PrefetchDataset element_spec=(TensorSpec(shape=(None, 28, 28, 1), dtype=tf.float32, name=None), TensorSpec(shape=(None,), dtype=tf.int64, name=None))>"
      ]
     },
     "execution_count": 125,
     "metadata": {},
     "output_type": "execute_result"
    }
   ],
   "source": [
    "ds_alb = ds_alb.map(set_shapes, num_parallel_calls=AUTOTUNE).batch(32).prefetch(AUTOTUNE)\n",
    "ds_alb"
   ]
  },
  {
   "attachments": {},
   "cell_type": "markdown",
   "metadata": {},
   "source": [
    "#### View images from the dataset"
   ]
  },
  {
   "cell_type": "code",
   "execution_count": 126,
   "metadata": {},
   "outputs": [
    {
     "name": "stderr",
     "output_type": "stream",
     "text": [
      "c:\\Users\\magda\\AppData\\Local\\Programs\\Python\\Python310\\lib\\site-packages\\albumentations\\augmentations\\functional.py:155: UserWarning: HueSaturationValue: hue_shift and sat_shift are not applicable to grayscale image. Set them to 0 or use RGB image\n",
      "  warn(\n"
     ]
    },
    {
     "data": {
      "image/png": "[encoded data removed]",
      "text/plain": [
       "<Figure size 2200x2200 with 20 Axes>"
      ]
     },
     "metadata": {},
     "output_type": "display_data"
    }
   ],
   "source": [
    "view_image(ds_alb)"
   ]
  },
  {
   "attachments": {},
   "cell_type": "markdown",
   "metadata": {},
   "source": [
    "### We can then pass in this dataset to out model and call fit on our model"
   ]
  },
  {
   "cell_type": "code",
   "execution_count": 149,
   "metadata": {},
   "outputs": [
    {
     "name": "stdout",
     "output_type": "stream",
     "text": [
      "Model: \"sequential_9\"\n",
      "_________________________________________________________________\n",
      " Layer (type)                Output Shape              Param #   \n",
      "=================================================================\n",
      " flatten_9 (Flatten)         (None, 784)               0         \n",
      "                                                                 \n",
      " dense_45 (Dense)            (None, 300)               235500    \n",
      "                                                                 \n",
      " dense_46 (Dense)            (None, 200)               60200     \n",
      "                                                                 \n",
      " dense_47 (Dense)            (None, 150)               30150     \n",
      "                                                                 \n",
      " dense_48 (Dense)            (None, 100)               15100     \n",
      "                                                                 \n",
      " dense_49 (Dense)            (None, 10)                1010      \n",
      "                                                                 \n",
      "=================================================================\n",
      "Total params: 341,960\n",
      "Trainable params: 341,960\n",
      "Non-trainable params: 0\n",
      "_________________________________________________________________\n"
     ]
    }
   ],
   "source": [
    "new_model = create_model()\n",
    "new_model.summary()"
   ]
  },
  {
   "cell_type": "code",
   "execution_count": 148,
   "metadata": {},
   "outputs": [
    {
     "name": "stdout",
     "output_type": "stream",
     "text": [
      "Epoch 1/10\n",
      "1875/1875 [==============================] - 70s 37ms/step - loss: 0.4263 - accuracy: 0.8426\n",
      "Epoch 2/10\n",
      "1875/1875 [==============================] - 75s 40ms/step - loss: 0.4158 - accuracy: 0.8443\n",
      "Epoch 3/10\n",
      "1875/1875 [==============================] - 73s 39ms/step - loss: 0.4050 - accuracy: 0.8501\n",
      "Epoch 4/10\n",
      "1875/1875 [==============================] - 72s 38ms/step - loss: 0.3981 - accuracy: 0.8526\n",
      "Epoch 5/10\n",
      "1875/1875 [==============================] - 73s 39ms/step - loss: 0.3859 - accuracy: 0.8575\n",
      "Epoch 6/10\n",
      "1875/1875 [==============================] - 73s 39ms/step - loss: 0.3798 - accuracy: 0.8583\n",
      "Epoch 7/10\n",
      "1875/1875 [==============================] - 73s 39ms/step - loss: 0.3758 - accuracy: 0.8601\n",
      "Epoch 8/10\n",
      "1875/1875 [==============================] - 78s 41ms/step - loss: 0.3669 - accuracy: 0.8634\n",
      "Epoch 9/10\n",
      "1875/1875 [==============================] - 75s 40ms/step - loss: 0.3642 - accuracy: 0.8641\n",
      "Epoch 10/10\n",
      "1875/1875 [==============================] - 72s 39ms/step - loss: 0.3621 - accuracy: 0.8672\n"
     ]
    },
    {
     "data": {
      "text/plain": [
       "<keras.callbacks.History at 0x2e2be7ce9e0>"
      ]
     },
     "execution_count": 148,
     "metadata": {},
     "output_type": "execute_result"
    }
   ],
   "source": [
    "new_model.fit(ds_alb, epochs=10)"
   ]
  },
  {
   "cell_type": "code",
   "execution_count": null,
   "metadata": {},
   "outputs": [],
   "source": []
  }
 ],
 "metadata": {
  "kernelspec": {
   "display_name": "Python 3",
   "language": "python",
   "name": "python3"
  },
  "language_info": {
   "codemirror_mode": {
    "name": "ipython",
    "version": 3
   },
   "file_extension": ".py",
   "mimetype": "text/x-python",
   "name": "python",
   "nbconvert_exporter": "python",
   "pygments_lexer": "ipython3",
   "version": "3.10.6"
  },
  "orig_nbformat": 4,
  "vscode": {
   "interpreter": {
    "hash": "a491fa038a24a3354ef15b8320e5eed1f98c46448a463343d2ea596d5b86218b"
   }
  }
 },
 "nbformat": 4,
 "nbformat_minor": 2
}
